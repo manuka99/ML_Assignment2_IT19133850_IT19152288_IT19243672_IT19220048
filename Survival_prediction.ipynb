{
 "cells": [
  {
   "cell_type": "code",
   "execution_count": 1,
   "metadata": {},
   "outputs": [],
   "source": [
    "# Import libraries\n",
    "# Numpy library to statistically analyse data\n",
    "import numpy as np\n",
    "# Pandas library to make data frames\n",
    "import pandas as pd\n",
    "# Matplotlib and seaborn library to visualize data as charts \n",
    "import matplotlib.pyplot as plt\n",
    "import seaborn as sns"
   ]
  },
  {
   "cell_type": "code",
   "execution_count": null,
   "metadata": {},
   "outputs": [],
   "source": [
    "# Visualize charts after the relavent line of code execution\n",
    "%matplotlib inline"
   ]
  },
  {
   "cell_type": "code",
   "execution_count": null,
   "metadata": {},
   "outputs": [],
   "source": [
    "# Dataset is taken from https://www.kaggle.com/datasets/sadiaanzum/patient-survival-prediction-dataset?select=Dataset.csv \n",
    "# assign data in the csv file to data frame\n",
    "patient_survival_data = pd.read_csv(\"survival_dataset.csv\")"
   ]
  },
  {
   "cell_type": "code",
   "execution_count": null,
   "metadata": {},
   "outputs": [],
   "source": [
    "# Visualize first 5 rows of the dataset\n",
    "patient_survival_data.head()"
   ]
  },
  {
   "cell_type": "code",
   "execution_count": null,
   "metadata": {},
   "outputs": [],
   "source": [
    "# Get detils about the dataset\n",
    "patient_survival_data.info()"
   ]
  },
  {
   "cell_type": "code",
   "execution_count": null,
   "metadata": {},
   "outputs": [],
   "source": [
    "# Check the availability of null values in the dataset\n",
    "patient_survival_data.isnull()"
   ]
  },
  {
   "cell_type": "code",
   "execution_count": null,
   "metadata": {},
   "outputs": [],
   "source": [
    "# Graphically view the availability of null values in the dataset\n",
    "sns.heatmap(patient_survival_data.isnull(), yticklabels=False, cbar=False, cmap=\"viridis\")"
   ]
  },
  {
   "cell_type": "code",
   "execution_count": null,
   "metadata": {},
   "outputs": [],
   "source": [
    "# Identify number of null values in the dataset (each column)\n",
    "patient_survival_data.isnull().sum()"
   ]
  },
  {
   "cell_type": "code",
   "execution_count": null,
   "metadata": {},
   "outputs": [],
   "source": [
    "# Update the dataframe by removing the null values\n",
    "updated_patient_survival_data = patient_survival_data.dropna()"
   ]
  },
  {
   "cell_type": "code",
   "execution_count": null,
   "metadata": {},
   "outputs": [],
   "source": [
    "# Check the availability of null data after removing the null data\n",
    "updated_patient_survival_data.isnull().sum()"
   ]
  },
  {
   "cell_type": "code",
   "execution_count": null,
   "metadata": {},
   "outputs": [],
   "source": [
    "# Graphically view the availability of null values in the dataset\n",
    "sns.heatmap(updated_patient_survival_data.isnull(), yticklabels=False, cbar=False, cmap=\"viridis\")"
   ]
  },
  {
   "cell_type": "code",
   "execution_count": null,
   "metadata": {},
   "outputs": [],
   "source": [
    "# Save the updated file with a new name where the null values are removed\n",
    "updated_patient_survival_data.to_csv('updated_survival_dataset.csv',index=False)"
   ]
  },
  {
   "cell_type": "code",
   "execution_count": null,
   "metadata": {},
   "outputs": [],
   "source": [
    "# View the dataset\n",
    "updated_patient_survival_data"
   ]
  },
  {
   "cell_type": "code",
   "execution_count": null,
   "metadata": {},
   "outputs": [],
   "source": [
    "# Identify the relationship between data\n",
    "sns.countplot(x='hospital_death', data=updated_patient_survival_data)"
   ]
  },
  {
   "cell_type": "code",
   "execution_count": null,
   "metadata": {},
   "outputs": [],
   "source": [
    "# sns.pairplot(updated_patient_survival_data, hue='hospital_death', height=3.0);"
   ]
  },
  {
   "cell_type": "code",
   "execution_count": null,
   "metadata": {},
   "outputs": [],
   "source": [
    "# Preprocess Data"
   ]
  },
  {
   "cell_type": "code",
   "execution_count": null,
   "metadata": {},
   "outputs": [],
   "source": [
    "pd.options.mode.chained_assignment = None  # default='warn'\n",
    "ICUAdmitMapping = {'Accident & Emergency': 'AcEm', 'Floor': 'Fl', 'Operating Room / Recovery': 'OpRe', \n",
    "                   'Other Hospital':'O', 'Other ICU': 'O'}\n",
    "\n",
    "updated_patient_survival_data['icu_admit_source'] = updated_patient_survival_data['icu_admit_source'].map(ICUAdmitMapping)"
   ]
  },
  {
   "cell_type": "code",
   "execution_count": null,
   "metadata": {},
   "outputs": [],
   "source": [
    "ICUStayTypeMapping = {'admit': 'Ad', 'readmit': 'Ra', 'transfer': 'Tr'}\n",
    "\n",
    "updated_patient_survival_data['icu_stay_type'] = updated_patient_survival_data['icu_stay_type'].map(ICUStayTypeMapping)"
   ]
  },
  {
   "cell_type": "code",
   "execution_count": null,
   "metadata": {},
   "outputs": [],
   "source": [
    "ICUTypeMapping = {'CTICU': 'CTICU', 'CCU-CTICU': 'CCU', 'Med-Surg ICU': 'Other'}\n",
    "\n",
    "updated_patient_survival_data['icu_type'] = updated_patient_survival_data['icu_type'].map(ICUTypeMapping)"
   ]
  },
  {
   "cell_type": "code",
   "execution_count": null,
   "metadata": {},
   "outputs": [],
   "source": [
    "# View table with updated changes\n",
    "updated_patient_survival_data"
   ]
  },
  {
   "cell_type": "code",
   "execution_count": null,
   "metadata": {},
   "outputs": [],
   "source": [
    "DiagnosisAIIIMapping = {'Cardiovascular': 'Car', 'Gastrointestinal':'Gas', 'Genitourinary': 'GeU', \n",
    "                        'Gynecological': 'GYn', 'Hematological': 'Hea', 'Metabolic': 'Met', \n",
    "                        'Musculoskeletal/Skin': 'MuS', 'Neurological':'Neu', 'Respiratory': 'Res', \n",
    "                        'Sepsis': 'Sep', 'Trauma': 'Tra'}\n",
    "\n",
    "updated_patient_survival_data['apache_3j_bodysystem'] = updated_patient_survival_data['apache_3j_bodysystem'].map(DiagnosisAIIIMapping)"
   ]
  },
  {
   "cell_type": "code",
   "execution_count": null,
   "metadata": {},
   "outputs": [],
   "source": [
    "DiagnosisAIIMapping = {'Cardiovascular': 'C', 'Gastrointestinal': 'GA', 'Hematological': 'H', 'Metabolic': 'M', 'Neurologic': 'N', 'Renal/Genitourinary': 'RG', \n",
    "                       'Respiratory': 'R', 'Trauma': 'T', 'Undefined diagnoses': 'U'}\n",
    "\n",
    "updated_patient_survival_data['apache_2_bodysystem'] = updated_patient_survival_data['apache_2_bodysystem'].map(DiagnosisAIIMapping)"
   ]
  },
  {
   "cell_type": "code",
   "execution_count": null,
   "metadata": {},
   "outputs": [],
   "source": [
    "# View table with updated changes\n",
    "updated_patient_survival_data"
   ]
  },
  {
   "cell_type": "code",
   "execution_count": null,
   "metadata": {},
   "outputs": [],
   "source": [
    "# Assign dummy variables\n",
    "pd.get_dummies(updated_patient_survival_data['gender'], drop_first=True)"
   ]
  },
  {
   "cell_type": "code",
   "execution_count": null,
   "metadata": {},
   "outputs": [],
   "source": [
    "patient_gender = pd.get_dummies(updated_patient_survival_data['gender'], drop_first=True)"
   ]
  },
  {
   "cell_type": "code",
   "execution_count": null,
   "metadata": {},
   "outputs": [],
   "source": [
    "patient_gender"
   ]
  },
  {
   "cell_type": "code",
   "execution_count": null,
   "metadata": {},
   "outputs": [],
   "source": [
    "ICUadmit_source = pd.get_dummies(updated_patient_survival_data['icu_admit_source'], drop_first=True)"
   ]
  },
  {
   "cell_type": "code",
   "execution_count": null,
   "metadata": {},
   "outputs": [],
   "source": [
    "ICUadmit_source"
   ]
  },
  {
   "cell_type": "markdown",
   "metadata": {},
   "source": [
    "patient_icu_stay_type = pd.get_dummies(updated_patient_survival_data['icu_stay_type'], drop_first=True)\n",
    "# pd.get_dummies(updated_patient_survival_data['icu_stay_type'], drop_first=True)"
   ]
  },
  {
   "cell_type": "code",
   "execution_count": null,
   "metadata": {},
   "outputs": [],
   "source": [
    "patient_icu_stay_type"
   ]
  },
  {
   "cell_type": "markdown",
   "metadata": {},
   "source": [
    "# patient_ICU_Admit = pd.get_dummies(updated_patient_survival_data['icu_admit_type'], drop_first=True)\n",
    "# patient_ICU_Admit"
   ]
  },
  {
   "cell_type": "markdown",
   "metadata": {},
   "source": [
    "patient_icu_type = pd.get_dummies(updated_patient_survival_data['icu_type'], drop_first=True)"
   ]
  },
  {
   "cell_type": "code",
   "execution_count": null,
   "metadata": {},
   "outputs": [],
   "source": [
    "patient_icu_type"
   ]
  },
  {
   "cell_type": "code",
   "execution_count": null,
   "metadata": {},
   "outputs": [],
   "source": [
    "diagnosis_GIII = pd.get_dummies(updated_patient_survival_data['apache_3j_bodysystem'], drop_first=True)"
   ]
  },
  {
   "cell_type": "code",
   "execution_count": null,
   "metadata": {},
   "outputs": [],
   "source": [
    "diagnosis_GIII"
   ]
  },
  {
   "cell_type": "code",
   "execution_count": null,
   "metadata": {},
   "outputs": [],
   "source": [
    "diagnosis_GII = pd.get_dummies(updated_patient_survival_data['apache_2_bodysystem'], drop_first=True)"
   ]
  },
  {
   "cell_type": "code",
   "execution_count": null,
   "metadata": {},
   "outputs": [],
   "source": [
    "diagnosis_GII"
   ]
  },
  {
   "cell_type": "code",
   "execution_count": null,
   "metadata": {},
   "outputs": [],
   "source": [
    "# concatanate dummy variable to dataset\n",
    "updated_patient_survival_data = pd.concat([updated_patient_survival_data, diagnosis_GII, diagnosis_GIII, patient_gender, patient_icu_stay_type, patient_icu_type], axis=1)"
   ]
  },
  {
   "cell_type": "code",
   "execution_count": null,
   "metadata": {},
   "outputs": [],
   "source": [
    "updated_patient_survival_data"
   ]
  },
  {
   "cell_type": "markdown",
   "metadata": {},
   "source": [
    "# View column names of the updated csv files\n",
    "# updated_patient_survival_data.head()\n",
    "# View only the column names in the updated csv files\n",
    "for column_name in updated_patient_survival_data.columns:\n",
    "    print(column_name)"
   ]
  },
  {
   "cell_type": "code",
   "execution_count": null,
   "metadata": {},
   "outputs": [],
   "source": [
    "# As dummy variables are made for the variables, delete other variables with might be exist as duplicates\n",
    "updated_patient_survival_data.drop(['encounter_id', 'patient_id', 'hospital_id', 'ethnicity', 'gender', 'hospital_admit_source', 'icu_admit_source', 'icu_id', 'icu_stay_type', 'icu_type', 'apache_3j_bodysystem', 'apache_2_bodysystem'], axis=1, inplace=True)"
   ]
  },
  {
   "cell_type": "markdown",
   "metadata": {},
   "source": [
    "# View only the column names in the updated csv files\n",
    "for updated_column_name in updated_patient_survival_data.columns:\n",
    "    print(updated_column_name)"
   ]
  },
  {
   "cell_type": "code",
   "execution_count": null,
   "metadata": {},
   "outputs": [],
   "source": [
    "# View as a table\n",
    "updated_patient_survival_data"
   ]
  },
  {
   "cell_type": "code",
   "execution_count": null,
   "metadata": {},
   "outputs": [],
   "source": [
    "# Encode data\n",
    "# Import library from sklearn to encode data\n",
    "from sklearn.preprocessing import LabelEncoder"
   ]
  },
  {
   "cell_type": "code",
   "execution_count": null,
   "metadata": {},
   "outputs": [],
   "source": [
    "label_enc = LabelEncoder()\n",
    "survival_data = updated_patient_survival_data.copy()"
   ]
  },
  {
   "cell_type": "code",
   "execution_count": null,
   "metadata": {},
   "outputs": [],
   "source": [
    "# Encode code individually\n",
    "for data in updated_patient_survival_data.columns:\n",
    "    survival_data[data] = label_enc.fit_transform(updated_patient_survival_data[data])"
   ]
  },
  {
   "cell_type": "code",
   "execution_count": null,
   "metadata": {},
   "outputs": [],
   "source": [
    "survival_data"
   ]
  },
  {
   "cell_type": "code",
   "execution_count": null,
   "metadata": {},
   "outputs": [],
   "source": [
    "# Split dataset"
   ]
  },
  {
   "cell_type": "code",
   "execution_count": null,
   "metadata": {},
   "outputs": [],
   "source": [
    "# Divide the data set\n",
    "# X => Get all the column names except churn column\n",
    "# X is independent variable\n",
    "X = survival_data.drop('hospital_death', axis = 1)\n",
    "# Y is the dependent variable which depend on x variables\n",
    "Y = survival_data['hospital_death']"
   ]
  },
  {
   "cell_type": "code",
   "execution_count": null,
   "metadata": {},
   "outputs": [],
   "source": [
    "# Split dataset for test and train which is done by importing a package called model_selection from sklearn\n",
    "from sklearn.model_selection import train_test_split"
   ]
  },
  {
   "cell_type": "code",
   "execution_count": null,
   "metadata": {},
   "outputs": [],
   "source": [
    "# Variables\n",
    "x_train, x_test, y_train, y_test = train_test_split(X, Y, test_size = 0.2, random_state = 2)"
   ]
  },
  {
   "cell_type": "code",
   "execution_count": null,
   "metadata": {},
   "outputs": [],
   "source": [
    "# Find the shape of the dataset\n",
    "print(x_train.shape, '----> Training Feature Shape')\n",
    "print(x_test.shape, '----> Training Feature Shape')\n",
    "print(y_train.shape, '----> Training Feature Shape')\n",
    "print(y_test.shape, '----> Training Feature Shape')"
   ]
  }
 ],
 "metadata": {
  "interpreter": {
   "hash": "a2682e982b6726e8b1205c607789ab891c5057fcbbdcd059a6a9f221964c4c55"
  },
  "kernelspec": {
   "display_name": "Python 3.9.7 ('base')",
   "language": "python",
   "name": "python3"
  },
  "language_info": {
   "codemirror_mode": {
    "name": "ipython",
    "version": 3
   },
   "file_extension": ".py",
   "mimetype": "text/x-python",
   "name": "python",
   "nbconvert_exporter": "python",
   "pygments_lexer": "ipython3",
   "version": "3.9.7"
  },
  "orig_nbformat": 4
 },
 "nbformat": 4,
 "nbformat_minor": 2
}
